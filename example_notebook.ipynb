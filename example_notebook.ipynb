{
 "cells": [
  {
   "cell_type": "code",
   "execution_count": 1,
   "metadata": {},
   "outputs": [],
   "source": [
    "%load_ext cyber"
   ]
  },
  {
   "cell_type": "code",
   "execution_count": 2,
   "metadata": {},
   "outputs": [
    {
     "name": "stdout",
     "output_type": "stream",
     "text": [
      "new_module.test\n",
      "new_module.test2\n",
      "NewModule.test\n"
     ]
    }
   ],
   "source": [
    "from cyber import *\n",
    "\n",
    "cyber = CyberVM()\n",
    "\n",
    "# bind python callback to function \"print\" in module \"core\"\n",
    "# this overrides builtin print\n",
    "@cyber.function('core.print')\n",
    "def _print(string: str):\n",
    "    print(string)\n",
    "\n",
    "# @cyber.function('core.print2')\n",
    "# def _print2(string: str):\n",
    "#     print(string)\n",
    "\n",
    "# if no module, assume core\n",
    "# if no function name, use existing function name\n",
    "# this creates function \"test\" in the \"core\" module\n",
    "@cyber.function\n",
    "def test():\n",
    "    print('core.test')\n",
    "\n",
    "# \"core\" already exists, so add test() to it\n",
    "class Core(cyber.module('core')):\n",
    "    def test2(self):\n",
    "        print('core.test2')\n",
    "\n",
    "# create \"new_module\" and add test() to it\n",
    "@cyber.module('new_module')\n",
    "class Module:\n",
    "    def test(self):\n",
    "        print('new_module.test')\n",
    "    def test2(self, one):\n",
    "        print('new_module.test2')\n",
    "\n",
    "# create module, implicitly named \"NewModule\" and add test() to it\n",
    "@cyber.module\n",
    "class NewModule:\n",
    "    def test(self):\n",
    "        print('NewModule.test')\n",
    "\n",
    "script = \"\"\"\n",
    "import m 'new_module'\n",
    "import n 'NewModule'\n",
    "\n",
    "m.test()\n",
    "m.test2(1)\n",
    "n.test()\n",
    "\"\"\"\n",
    "\n",
    "cyber.exec(script)"
   ]
  },
  {
   "cell_type": "code",
   "execution_count": 3,
   "metadata": {},
   "outputs": [
    {
     "name": "stdout",
     "output_type": "stream",
     "text": [
      "a\n",
      "core.noargs\n"
     ]
    }
   ],
   "source": [
    "from cyber import *\n",
    "cyber = CyberVM()\n",
    "\n",
    "@cyber.function('core.print')\n",
    "def _print(string: str):\n",
    "    print(string)\n",
    "\n",
    "@cyber.function('core.noargs')\n",
    "def noargs():\n",
    "    print('core.noargs')\n",
    "\n",
    "script = \"\"\"\n",
    "print 'a' -- works\n",
    "noargs() -- works\n",
    "\"\"\"\n",
    "\n",
    "cyber.exec(script)"
   ]
  },
  {
   "cell_type": "code",
   "execution_count": 9,
   "metadata": {},
   "outputs": [
    {
     "name": "stdout",
     "output_type": "stream",
     "text": [
      "abc\n"
     ]
    }
   ],
   "source": [
    "from cyber import *\n",
    "cyber = CyberVM()\n",
    "\n",
    "\n",
    "@cyber.module\n",
    "class core:\n",
    "    test_value = 'abc'\n",
    "\n",
    "    def print(self, string: str):\n",
    "        print(string)\n",
    "\n",
    "script = \"\"\"\n",
    "print test_value\n",
    "\"\"\"\n",
    "\n",
    "cyber.exec(script)"
   ]
  },
  {
   "cell_type": "code",
   "execution_count": 5,
   "metadata": {},
   "outputs": [
    {
     "name": "stdout",
     "output_type": "stream",
     "text": [
      "hello\n"
     ]
    }
   ],
   "source": [
    "# this statement is eval'd as cyber code\n",
    "%cyber print 'hello'"
   ]
  },
  {
   "cell_type": "code",
   "execution_count": 6,
   "metadata": {},
   "outputs": [
    {
     "name": "stdout",
     "output_type": "stream",
     "text": [
      "hello\n",
      "world\n"
     ]
    }
   ],
   "source": [
    "%%cyber\n",
    "\n",
    "print 'hello'\n",
    "print 'world'"
   ]
  }
 ],
 "metadata": {
  "kernelspec": {
   "display_name": ".venv",
   "language": "python",
   "name": "python3"
  },
  "language_info": {
   "codemirror_mode": {
    "name": "ipython",
    "version": 3
   },
   "file_extension": ".py",
   "mimetype": "text/x-python",
   "name": "python",
   "nbconvert_exporter": "python",
   "pygments_lexer": "ipython3",
   "version": "3.10.8"
  },
  "orig_nbformat": 4
 },
 "nbformat": 4,
 "nbformat_minor": 2
}
