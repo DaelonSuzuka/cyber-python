{
 "cells": [
  {
   "cell_type": "code",
   "execution_count": 1,
   "metadata": {},
   "outputs": [],
   "source": [
    "%load_ext cyber"
   ]
  },
  {
   "cell_type": "code",
   "execution_count": 2,
   "metadata": {},
   "outputs": [
    {
     "name": "stdout",
     "output_type": "stream",
     "text": [
      "beep\n",
      "boop\n"
     ]
    }
   ],
   "source": [
    "from cyber import *\n",
    "\n",
    "cyber = CyberVM()\n",
    "\n",
    "@cyber.function('core.print')\n",
    "def _print(string: str):\n",
    "    print(string)\n",
    "\n",
    "class Core(cyber.module('core')):\n",
    "    def test(self, string: str):\n",
    "        print(string)\n",
    "\n",
    "cyber.exec(\"print 'beep'\")\n",
    "cyber.exec(\"test 'boop'\")"
   ]
  },
  {
   "cell_type": "code",
   "execution_count": 3,
   "metadata": {},
   "outputs": [
    {
     "name": "stdout",
     "output_type": "stream",
     "text": [
      "hello\n"
     ]
    }
   ],
   "source": [
    "# this statement is eval'd as cyber code\n",
    "%cyber print 'hello'"
   ]
  },
  {
   "cell_type": "code",
   "execution_count": 4,
   "metadata": {},
   "outputs": [
    {
     "name": "stdout",
     "output_type": "stream",
     "text": [
      "cyber\n",
      "world\n"
     ]
    }
   ],
   "source": [
    "%%cyber\n",
    "-- this entire cell is eval'd as cyber code\n",
    "-- (but it's still being highlighted like it's python!)\n",
    "print 'cyber'\n",
    "print 'world'"
   ]
  }
 ],
 "metadata": {
  "kernelspec": {
   "display_name": ".venv",
   "language": "python",
   "name": "python3"
  },
  "language_info": {
   "codemirror_mode": {
    "name": "ipython",
    "version": 3
   },
   "file_extension": ".py",
   "mimetype": "text/x-python",
   "name": "python",
   "nbconvert_exporter": "python",
   "pygments_lexer": "ipython3",
   "version": "3.10.8"
  },
  "orig_nbformat": 4
 },
 "nbformat": 4,
 "nbformat_minor": 2
}
